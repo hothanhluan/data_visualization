{
 "cells": [
  {
   "cell_type": "code",
   "execution_count": 27,
   "metadata": {},
   "outputs": [],
   "source": [
    "import pandas as pd\n",
    "import seaborn as sns\n",
    "import matplotlib.pyplot as plt"
   ]
  },
  {
   "cell_type": "code",
   "execution_count": 12,
   "metadata": {},
   "outputs": [],
   "source": [
    "gdp = pd.read_table('/home/luan/Desktop/data_visualization/gdp_by_country', header = None)"
   ]
  },
  {
   "cell_type": "code",
   "execution_count": 13,
   "metadata": {},
   "outputs": [
    {
     "data": {
      "text/html": [
       "<div>\n",
       "<style>\n",
       "    .dataframe thead tr:only-child th {\n",
       "        text-align: right;\n",
       "    }\n",
       "\n",
       "    .dataframe thead th {\n",
       "        text-align: left;\n",
       "    }\n",
       "\n",
       "    .dataframe tbody tr th {\n",
       "        vertical-align: top;\n",
       "    }\n",
       "</style>\n",
       "<table border=\"1\" class=\"dataframe\">\n",
       "  <thead>\n",
       "    <tr style=\"text-align: right;\">\n",
       "      <th></th>\n",
       "      <th>0</th>\n",
       "      <th>1</th>\n",
       "      <th>2</th>\n",
       "      <th>3</th>\n",
       "      <th>4</th>\n",
       "      <th>5</th>\n",
       "      <th>6</th>\n",
       "      <th>7</th>\n",
       "      <th>8</th>\n",
       "    </tr>\n",
       "  </thead>\n",
       "  <tbody>\n",
       "    <tr>\n",
       "      <th>0</th>\n",
       "      <td>United States</td>\n",
       "      <td>19390.60</td>\n",
       "      <td>Dec/17</td>\n",
       "      <td>18624.0</td>\n",
       "      <td>19391.0</td>\n",
       "      <td>543.00</td>\n",
       "      <td>USD Billion</td>\n",
       "      <td>Yearly</td>\n",
       "      <td>NaN</td>\n",
       "    </tr>\n",
       "    <tr>\n",
       "      <th>1</th>\n",
       "      <td>European Union</td>\n",
       "      <td>17277.70</td>\n",
       "      <td>Dec/17</td>\n",
       "      <td>16492.0</td>\n",
       "      <td>19137.0</td>\n",
       "      <td>359.00</td>\n",
       "      <td>USD Billion</td>\n",
       "      <td>Yearly</td>\n",
       "      <td>NaN</td>\n",
       "    </tr>\n",
       "    <tr>\n",
       "      <th>2</th>\n",
       "      <td>Euro Area</td>\n",
       "      <td>12589.50</td>\n",
       "      <td>Dec/17</td>\n",
       "      <td>11935.0</td>\n",
       "      <td>14113.0</td>\n",
       "      <td>245.00</td>\n",
       "      <td>USD Billion</td>\n",
       "      <td>Yearly</td>\n",
       "      <td>NaN</td>\n",
       "    </tr>\n",
       "    <tr>\n",
       "      <th>3</th>\n",
       "      <td>China</td>\n",
       "      <td>12237.70</td>\n",
       "      <td>Dec/17</td>\n",
       "      <td>11191.0</td>\n",
       "      <td>12238.0</td>\n",
       "      <td>47.21</td>\n",
       "      <td>USD Billion</td>\n",
       "      <td>Yearly</td>\n",
       "      <td>NaN</td>\n",
       "    </tr>\n",
       "    <tr>\n",
       "      <th>4</th>\n",
       "      <td>Japan</td>\n",
       "      <td>4872.14</td>\n",
       "      <td>Dec/17</td>\n",
       "      <td>4949.0</td>\n",
       "      <td>6203.0</td>\n",
       "      <td>44.31</td>\n",
       "      <td>USD Billion</td>\n",
       "      <td>Yearly</td>\n",
       "      <td>NaN</td>\n",
       "    </tr>\n",
       "    <tr>\n",
       "      <th>5</th>\n",
       "      <td>Germany</td>\n",
       "      <td>3677.44</td>\n",
       "      <td>Dec/17</td>\n",
       "      <td>3478.0</td>\n",
       "      <td>3891.0</td>\n",
       "      <td>215.00</td>\n",
       "      <td>USD Billion</td>\n",
       "      <td>Yearly</td>\n",
       "      <td>NaN</td>\n",
       "    </tr>\n",
       "    <tr>\n",
       "      <th>6</th>\n",
       "      <td>United Kingdom</td>\n",
       "      <td>2622.43</td>\n",
       "      <td>Dec/17</td>\n",
       "      <td>2651.0</td>\n",
       "      <td>3074.0</td>\n",
       "      <td>72.33</td>\n",
       "      <td>USD Billion</td>\n",
       "      <td>Yearly</td>\n",
       "      <td>NaN</td>\n",
       "    </tr>\n",
       "    <tr>\n",
       "      <th>7</th>\n",
       "      <td>India</td>\n",
       "      <td>2597.49</td>\n",
       "      <td>Dec/17</td>\n",
       "      <td>2274.0</td>\n",
       "      <td>2597.0</td>\n",
       "      <td>36.54</td>\n",
       "      <td>USD Billion</td>\n",
       "      <td>Yearly</td>\n",
       "      <td>NaN</td>\n",
       "    </tr>\n",
       "    <tr>\n",
       "      <th>8</th>\n",
       "      <td>France</td>\n",
       "      <td>2582.50</td>\n",
       "      <td>Dec/17</td>\n",
       "      <td>2465.0</td>\n",
       "      <td>2918.0</td>\n",
       "      <td>62.65</td>\n",
       "      <td>USD Billion</td>\n",
       "      <td>Yearly</td>\n",
       "      <td>NaN</td>\n",
       "    </tr>\n",
       "    <tr>\n",
       "      <th>9</th>\n",
       "      <td>Brazil</td>\n",
       "      <td>2055.51</td>\n",
       "      <td>Dec/17</td>\n",
       "      <td>1794.0</td>\n",
       "      <td>2616.0</td>\n",
       "      <td>15.17</td>\n",
       "      <td>USD Billion</td>\n",
       "      <td>Yearly</td>\n",
       "      <td>NaN</td>\n",
       "    </tr>\n",
       "  </tbody>\n",
       "</table>\n",
       "</div>"
      ],
      "text/plain": [
       "                0         1       2        3        4       5            6  \\\n",
       "0   United States  19390.60  Dec/17  18624.0  19391.0  543.00  USD Billion   \n",
       "1  European Union  17277.70  Dec/17  16492.0  19137.0  359.00  USD Billion   \n",
       "2       Euro Area  12589.50  Dec/17  11935.0  14113.0  245.00  USD Billion   \n",
       "3           China  12237.70  Dec/17  11191.0  12238.0   47.21  USD Billion   \n",
       "4           Japan   4872.14  Dec/17   4949.0   6203.0   44.31  USD Billion   \n",
       "5         Germany   3677.44  Dec/17   3478.0   3891.0  215.00  USD Billion   \n",
       "6  United Kingdom   2622.43  Dec/17   2651.0   3074.0   72.33  USD Billion   \n",
       "7           India   2597.49  Dec/17   2274.0   2597.0   36.54  USD Billion   \n",
       "8          France   2582.50  Dec/17   2465.0   2918.0   62.65  USD Billion   \n",
       "9          Brazil   2055.51  Dec/17   1794.0   2616.0   15.17  USD Billion   \n",
       "\n",
       "        7   8  \n",
       "0  Yearly NaN  \n",
       "1  Yearly NaN  \n",
       "2  Yearly NaN  \n",
       "3  Yearly NaN  \n",
       "4  Yearly NaN  \n",
       "5  Yearly NaN  \n",
       "6  Yearly NaN  \n",
       "7  Yearly NaN  \n",
       "8  Yearly NaN  \n",
       "9  Yearly NaN  "
      ]
     },
     "execution_count": 13,
     "metadata": {},
     "output_type": "execute_result"
    }
   ],
   "source": [
    "gdp.head(10)"
   ]
  },
  {
   "cell_type": "code",
   "execution_count": 15,
   "metadata": {},
   "outputs": [
    {
     "data": {
      "text/plain": [
       "Int64Index([0, 1, 2, 3, 4, 5, 6, 7, 8], dtype='int64')"
      ]
     },
     "execution_count": 15,
     "metadata": {},
     "output_type": "execute_result"
    }
   ],
   "source": [
    "gdp.columns"
   ]
  },
  {
   "cell_type": "code",
   "execution_count": 17,
   "metadata": {},
   "outputs": [],
   "source": [
    "gdp_df = pd.DataFrame()\n",
    "\n",
    "gdp_df[\"country\"] = gdp[0]\n",
    "gdp_df['last'] = gdp[1]\n"
   ]
  },
  {
   "cell_type": "code",
   "execution_count": 21,
   "metadata": {},
   "outputs": [
    {
     "data": {
      "text/html": [
       "<div>\n",
       "<style>\n",
       "    .dataframe thead tr:only-child th {\n",
       "        text-align: right;\n",
       "    }\n",
       "\n",
       "    .dataframe thead th {\n",
       "        text-align: left;\n",
       "    }\n",
       "\n",
       "    .dataframe tbody tr th {\n",
       "        vertical-align: top;\n",
       "    }\n",
       "</style>\n",
       "<table border=\"1\" class=\"dataframe\">\n",
       "  <thead>\n",
       "    <tr style=\"text-align: right;\">\n",
       "      <th></th>\n",
       "      <th>country</th>\n",
       "      <th>last</th>\n",
       "    </tr>\n",
       "  </thead>\n",
       "  <tbody>\n",
       "    <tr>\n",
       "      <th>0</th>\n",
       "      <td>United States</td>\n",
       "      <td>19390.60</td>\n",
       "    </tr>\n",
       "    <tr>\n",
       "      <th>1</th>\n",
       "      <td>European Union</td>\n",
       "      <td>17277.70</td>\n",
       "    </tr>\n",
       "    <tr>\n",
       "      <th>2</th>\n",
       "      <td>Euro Area</td>\n",
       "      <td>12589.50</td>\n",
       "    </tr>\n",
       "    <tr>\n",
       "      <th>3</th>\n",
       "      <td>China</td>\n",
       "      <td>12237.70</td>\n",
       "    </tr>\n",
       "    <tr>\n",
       "      <th>4</th>\n",
       "      <td>Japan</td>\n",
       "      <td>4872.14</td>\n",
       "    </tr>\n",
       "  </tbody>\n",
       "</table>\n",
       "</div>"
      ],
      "text/plain": [
       "          country      last\n",
       "0   United States  19390.60\n",
       "1  European Union  17277.70\n",
       "2       Euro Area  12589.50\n",
       "3           China  12237.70\n",
       "4           Japan   4872.14"
      ]
     },
     "execution_count": 21,
     "metadata": {},
     "output_type": "execute_result"
    }
   ],
   "source": [
    "gdp_df.head()"
   ]
  },
  {
   "cell_type": "code",
   "execution_count": 33,
   "metadata": {},
   "outputs": [
    {
     "data": {
      "text/plain": [
       "<matplotlib.axes._subplots.AxesSubplot at 0x7f11e8836da0>"
      ]
     },
     "execution_count": 33,
     "metadata": {},
     "output_type": "execute_result"
    }
   ],
   "source": [
    "sns.distplot(gdp_df['last'][0:20], hist = False, kde = True, rug = True)"
   ]
  },
  {
   "cell_type": "code",
   "execution_count": 34,
   "metadata": {},
   "outputs": [
    {
     "data": {
      "image/png": "[encoded data removed]",
      "text/plain": [
       "<matplotlib.figure.Figure at 0x7f11e8883a20>"
      ]
     },
     "metadata": {},
     "output_type": "display_data"
    }
   ],
   "source": [
    "plt.show()"
   ]
  },
  {
   "cell_type": "code",
   "execution_count": null,
   "metadata": {
    "collapsed": true
   },
   "outputs": [],
   "source": []
  }
 ],
 "metadata": {
  "kernelspec": {
   "display_name": "Python 3",
   "language": "python",
   "name": "python3"
  },
  "language_info": {
   "codemirror_mode": {
    "name": "ipython",
    "version": 3
   },
   "file_extension": ".py",
   "mimetype": "text/x-python",
   "name": "python",
   "nbconvert_exporter": "python",
   "pygments_lexer": "ipython3",
   "version": "3.6.3"
  }
 },
 "nbformat": 4,
 "nbformat_minor": 2
}
